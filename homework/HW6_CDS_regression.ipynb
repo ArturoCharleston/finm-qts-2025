{
 "cells": [
  {
   "cell_type": "markdown",
   "metadata": {},
   "source": [
    "## Homework 6: Intermarket prediction\n",
    "### FINM 33150 (Winter 2025) - Quantitative Trading Strategies\n",
    "#### NAME: Arturo Charleston\n",
    "#### Student ID: 12449584"
   ]
  },
  {
   "cell_type": "markdown",
   "metadata": {},
   "source": [
    "## Introduction\n",
    "In this notebook,"
   ]
  },
  {
   "cell_type": "code",
   "execution_count": null,
   "metadata": {},
   "outputs": [],
   "source": [
    "# PACKAGES\n",
    "import os\n",
    "import warnings\n",
    "import nasdaqdatalink\n",
    "import statsmodels.api as sm\n",
    "import pandas as pd\n",
    "import numpy as np\n",
    "import seaborn as sns\n",
    "import matplotlib.pyplot as plt\n",
    "from scipy.interpolate import interp1d\n",
    "from scipy.interpolate import CubicSpline\n",
    "from pyprojroot import here\n",
    "from fredapi import Fred\n",
    "\n",
    "# Global Options\n",
    "warnings.filterwarnings(\"ignore\")\n",
    "pd.options.display.float_format = '{:.5f}'.format\n",
    "\n",
    "# Set directory\n",
    "home_directory = \"/Users/charleston/Downloads/git_repositories/finm-qts-2025\"\n",
    "os.chdir(home_directory)\n",
    "\n",
    "# KEYS\n",
    "from config import FRED_KEY\n",
    "from config import QUANDL_KEY\n",
    "\n",
    "nasdaqdatalink.ApiConfig.api_key = QUANDL_KEY\n",
    "\n",
    "#from my_functions import *\n",
    "\n",
    "# Dates\n",
    "start_date = '2018-01-01'\n",
    "end_date = \"2024-12-31\""
   ]
  },
  {
   "cell_type": "markdown",
   "metadata": {},
   "source": [
    "### Functions"
   ]
  },
  {
   "cell_type": "code",
   "execution_count": null,
   "metadata": {},
   "outputs": [],
   "source": []
  },
  {
   "cell_type": "markdown",
   "metadata": {},
   "source": [
    "### Data Preparing"
   ]
  },
  {
   "cell_type": "code",
   "execution_count": 50,
   "metadata": {},
   "outputs": [],
   "source": [
    "# Read CDS data\n",
    "cds = pd.read_csv(here('./data/Liq5YCDS.delim'), delimiter='\\t', usecols=lambda column: column not in ['Unnamed: 0'])\n",
    "cds['date'] = pd.to_datetime(cds['date'])\n",
    "cds = cds.set_index('date')\n",
    "tickers = cds['ticker'].unique()\n",
    "tickers = np.append(tickers, 'SPY')\n",
    "\n",
    "# Convert CDS data from long format to wide format, keeping only the 'parspread' column\n",
    "cds = cds.pivot_table(index='date', columns='ticker', values='parspread')\n",
    "\n",
    "cds_returns = cds.resample('W-WED').last().pct_change()"
   ]
  },
  {
   "cell_type": "code",
   "execution_count": 51,
   "metadata": {},
   "outputs": [],
   "source": [
    "# Read the stock data for each ticker\n",
    "tickers_data_list = []\n",
    "\n",
    "for ticker in tickers:\n",
    "    data = nasdaqdatalink.get_table(\n",
    "        'QUOTEMEDIA/PRICES',\n",
    "        date={'gte': start_date, 'lte': end_date},  # Specify start and end dates\n",
    "        ticker=ticker,                             # Pass the ticker\n",
    "        paginate=True\n",
    "    )\n",
    "    tickers_data_list.append(data[['date', 'ticker', 'close']])\n",
    "\n",
    "# Concatenate all the dataframes into one\n",
    "tickers_data = pd.concat(tickers_data_list).sort_values(by='date')\n",
    "\n",
    "# Convert from long format to wide format\n",
    "tickers_data = tickers_data.pivot(index='date', columns='ticker', values='close')\n",
    "\n",
    "tickers_returns = tickers_data.resample('W-WED').last().pct_change()"
   ]
  },
  {
   "cell_type": "code",
   "execution_count": null,
   "metadata": {},
   "outputs": [],
   "source": []
  }
 ],
 "metadata": {
  "kernelspec": {
   "display_name": "Python 3",
   "language": "python",
   "name": "python3"
  },
  "language_info": {
   "codemirror_mode": {
    "name": "ipython",
    "version": 3
   },
   "file_extension": ".py",
   "mimetype": "text/x-python",
   "name": "python",
   "nbconvert_exporter": "python",
   "pygments_lexer": "ipython3",
   "version": "3.11.0"
  }
 },
 "nbformat": 4,
 "nbformat_minor": 2
}
