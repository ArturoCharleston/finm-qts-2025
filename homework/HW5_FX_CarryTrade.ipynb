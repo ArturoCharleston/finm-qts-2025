{
 "cells": [
  {
   "cell_type": "markdown",
   "metadata": {},
   "source": [
    "## Homework 5: FX Carry Trade Strategy\n",
    "### FINM 33150 (Winter 2025) - Quantitative Trading Strategies\n",
    "#### NAME: Arturo Charleston\n",
    "#### Student ID: 12449584"
   ]
  },
  {
   "cell_type": "markdown",
   "metadata": {},
   "source": [
    "## Introduction\n",
    "In the notebook I perform a carry traded based on the GBP. "
   ]
  },
  {
   "cell_type": "code",
   "execution_count": 1,
   "metadata": {},
   "outputs": [],
   "source": [
    "# PACKAGES\n",
    "import os\n",
    "import warnings\n",
    "import nasdaqdatalink\n",
    "import pandas as pd\n",
    "import numpy as np\n",
    "import seaborn as sns\n",
    "import matplotlib.pyplot as plt\n",
    "from pyprojroot import here\n",
    "from fredapi import Fred\n",
    "\n",
    "# Global Options\n",
    "warnings.filterwarnings(\"ignore\")\n",
    "pd.options.display.float_format = '{:.5f}'.format\n",
    "\n",
    "# Set directory\n",
    "home_directory = \"/Users/charleston/Downloads/git_repositories/finm-qts-2025\"\n",
    "os.chdir(home_directory)\n",
    "\n",
    "# KEYS\n",
    "from config import FRED_KEY\n",
    "from config import QUANDL_KEY\n",
    "\n",
    "nasdaqdatalink.ApiConfig.api_key = QUANDL_KEY"
   ]
  },
  {
   "cell_type": "code",
   "execution_count": 2,
   "metadata": {},
   "outputs": [],
   "source": [
    "# FUNCTIONS\n",
    "def fetch_fred(fred_key, series_ids, output_dir='./data'):\n",
    "    \"\"\"\n",
    "    Fetches data from FRED API and saves it to CSV files.\n",
    "\n",
    "    Parameters:\n",
    "    fred_key (str): API key for FRED.\n",
    "    series_ids (dict): Dictionary with category as key and series ID as value.\n",
    "    output_dir (str): Directory to save the CSV files. Default is './data'.\n",
    "\n",
    "    Returns:\n",
    "    None\n",
    "    \"\"\"\n",
    "    fred = Fred(api_key=fred_key)\n",
    "    \n",
    "    if not os.path.exists(output_dir):\n",
    "        os.makedirs(output_dir)\n",
    "    \n",
    "    for category, series_id in series_ids.items():\n",
    "        data = fred.get_series(series_id)\n",
    "        data = data.reset_index()\n",
    "        data.columns = ['date', 'value']\n",
    "        data.to_csv(f'{output_dir}/{series_id}.csv', index=False)\n",
    "\n",
    "        data_old = fred.get_series_first_release(series_id)\n",
    "        data_old = data_old.reset_index()\n",
    "        data_old.columns = ['date', 'value']\n",
    "        data_old.to_csv(f'{output_dir}/{series_id}_first_release.csv', index=False)"
   ]
  },
  {
   "cell_type": "markdown",
   "metadata": {},
   "source": [
    "## Data"
   ]
  },
  {
   "cell_type": "code",
   "execution_count": 3,
   "metadata": {},
   "outputs": [],
   "source": [
    "# Fetch CPI data from FRED\n",
    "series_ids = {\n",
    "    'SONIA': 'IUDSOIA',  #  Daily Sterling overnight index average (SONIA) rate\n",
    "}\n",
    "\n",
    "fetch_fred(FRED_KEY, series_ids, output_dir='./data/FRED')\n",
    "SONIA = pd.read_csv('./data/FRED/IUDSOIA.csv').set_index('date')\n",
    "SONIA.columns = ['SONIA']"
   ]
  },
  {
   "cell_type": "code",
   "execution_count": 9,
   "metadata": {},
   "outputs": [],
   "source": [
    "currencies = [\"GBP\", \"TRY\", \"PKR\", \"CRC\", \"ZAR\"]\n",
    "\n",
    "currencies_data = pd.concat(\n",
    "    [nasdaqdatalink.get_table('EDI/CUR', code=currency).set_index('date') for currency in currencies]\n",
    ").sort_index().pivot(columns='code', values='rate').ffill()\n",
    "\n",
    "currencies_data = currencies_data.loc[currencies_data.dropna(how='any', axis=0).index]"
   ]
  },
  {
   "cell_type": "code",
   "execution_count": 11,
   "metadata": {},
   "outputs": [
    {
     "data": {
      "application/vnd.microsoft.datawrangler.viewer.v0+json": {
       "columns": [
        {
         "name": "date",
         "rawType": "object",
         "type": "string"
        },
        {
         "name": "tenor",
         "rawType": "object",
         "type": "string"
        },
        {
         "name": "PKR",
         "rawType": "float64",
         "type": "float"
        },
        {
         "name": "CRC",
         "rawType": "float64",
         "type": "float"
        },
        {
         "name": "ZAR",
         "rawType": "float64",
         "type": "float"
        },
        {
         "name": "TRY",
         "rawType": "float64",
         "type": "float"
        }
       ],
       "conversionMethod": "pd.DataFrame",
       "ref": "42b4ab8f-9c7f-48dc-a557-8ea8c3e3f1d3",
       "rows": [
        [
         "2010-01-04",
         "10Y",
         "0.1487222222222222",
         "0.0603192246220674",
         "0.0599567288888889",
         "0.0650511592880436"
        ],
        [
         "2010-01-04",
         "1Y",
         "0.0815",
         "0.0127532467532467",
         "0.0135417409111111",
         "0.0165562406099816"
        ],
        [
         "2010-01-04",
         "5Y",
         "0.1365",
         "0.0454607967244628",
         "0.045298475",
         "0.0506201424166962"
        ],
        [
         "2010-01-04",
         "6M",
         "0.1164666666666666",
         "0.0114850881090932",
         "0.0094001848106666",
         "0.0106011111111111"
        ],
        [
         "2010-01-05",
         "10Y",
         "0.1479222222222222",
         "0.060946631438684",
         "0.0582911688888889",
         "0.0634842660464909"
        ]
       ],
       "shape": {
        "columns": 5,
        "rows": 5
       }
      },
      "text/html": [
       "<div>\n",
       "<style scoped>\n",
       "    .dataframe tbody tr th:only-of-type {\n",
       "        vertical-align: middle;\n",
       "    }\n",
       "\n",
       "    .dataframe tbody tr th {\n",
       "        vertical-align: top;\n",
       "    }\n",
       "\n",
       "    .dataframe thead th {\n",
       "        text-align: right;\n",
       "    }\n",
       "</style>\n",
       "<table border=\"1\" class=\"dataframe\">\n",
       "  <thead>\n",
       "    <tr style=\"text-align: right;\">\n",
       "      <th>shortname</th>\n",
       "      <th>tenor</th>\n",
       "      <th>PKR</th>\n",
       "      <th>CRC</th>\n",
       "      <th>ZAR</th>\n",
       "      <th>TRY</th>\n",
       "    </tr>\n",
       "    <tr>\n",
       "      <th>date</th>\n",
       "      <th></th>\n",
       "      <th></th>\n",
       "      <th></th>\n",
       "      <th></th>\n",
       "      <th></th>\n",
       "    </tr>\n",
       "  </thead>\n",
       "  <tbody>\n",
       "    <tr>\n",
       "      <th>2010-01-04</th>\n",
       "      <td>10Y</td>\n",
       "      <td>0.14872</td>\n",
       "      <td>0.06032</td>\n",
       "      <td>0.05996</td>\n",
       "      <td>0.06505</td>\n",
       "    </tr>\n",
       "    <tr>\n",
       "      <th>2010-01-04</th>\n",
       "      <td>1Y</td>\n",
       "      <td>0.08150</td>\n",
       "      <td>0.01275</td>\n",
       "      <td>0.01354</td>\n",
       "      <td>0.01656</td>\n",
       "    </tr>\n",
       "    <tr>\n",
       "      <th>2010-01-04</th>\n",
       "      <td>5Y</td>\n",
       "      <td>0.13650</td>\n",
       "      <td>0.04546</td>\n",
       "      <td>0.04530</td>\n",
       "      <td>0.05062</td>\n",
       "    </tr>\n",
       "    <tr>\n",
       "      <th>2010-01-04</th>\n",
       "      <td>6M</td>\n",
       "      <td>0.11647</td>\n",
       "      <td>0.01149</td>\n",
       "      <td>0.00940</td>\n",
       "      <td>0.01060</td>\n",
       "    </tr>\n",
       "    <tr>\n",
       "      <th>2010-01-05</th>\n",
       "      <td>10Y</td>\n",
       "      <td>0.14792</td>\n",
       "      <td>0.06095</td>\n",
       "      <td>0.05829</td>\n",
       "      <td>0.06348</td>\n",
       "    </tr>\n",
       "  </tbody>\n",
       "</table>\n",
       "</div>"
      ],
      "text/plain": [
       "shortname  tenor     PKR     CRC     ZAR     TRY\n",
       "date                                            \n",
       "2010-01-04   10Y 0.14872 0.06032 0.05996 0.06505\n",
       "2010-01-04    1Y 0.08150 0.01275 0.01354 0.01656\n",
       "2010-01-04    5Y 0.13650 0.04546 0.04530 0.05062\n",
       "2010-01-04    6M 0.11647 0.01149 0.00940 0.01060\n",
       "2010-01-05   10Y 0.14792 0.06095 0.05829 0.06348"
      ]
     },
     "execution_count": 11,
     "metadata": {},
     "output_type": "execute_result"
    }
   ],
   "source": [
    "yield_currencies = ['Rep South Africa', 'Rep Turkey', 'Rep Costa Rica', 'Islamic Rep Pakistan']\n",
    "\n",
    "yield_curves = (\n",
    "    pd.read_csv(here('./data/InferredYieldCurves_2025-02-04.tab'), sep='\\t')\n",
    "    .query('shortname in @yield_currencies')\n",
    "    .sort_values(by=['date', 'shortname', 'tenor'])\n",
    "    .pivot_table(index=['date', 'tenor'], columns='shortname', values='yield')\n",
    "    .rename(columns={'Rep South Africa': 'ZAR', 'Rep Turkey': 'TRY', 'Rep Costa Rica': 'CRC', 'Islamic Rep Pakistan': 'PKR'})\n",
    "    .reset_index().set_index('date')\n",
    ")\n",
    "\n",
    "yield_curves.head(5)"
   ]
  },
  {
   "cell_type": "code",
   "execution_count": 5,
   "metadata": {},
   "outputs": [
    {
     "data": {
      "application/vnd.microsoft.datawrangler.viewer.v0+json": {
       "columns": [
        {
         "name": "date",
         "rawType": "object",
         "type": "string"
        },
        {
         "name": "tenor",
         "rawType": "object",
         "type": "string"
        },
        {
         "name": "PKR",
         "rawType": "float64",
         "type": "float"
        },
        {
         "name": "CRC",
         "rawType": "float64",
         "type": "float"
        },
        {
         "name": "ZAR",
         "rawType": "float64",
         "type": "float"
        },
        {
         "name": "TRY",
         "rawType": "float64",
         "type": "float"
        }
       ],
       "conversionMethod": "pd.DataFrame",
       "ref": "6df8fd31-5ae6-4d9e-aa8e-12f919bbdd3c",
       "rows": [
        [
         "2010-01-04",
         "10Y",
         "0.1487222222222222",
         "0.0603192246220674",
         "0.0599567288888889",
         "0.0650511592880436"
        ],
        [
         "2010-01-04",
         "1Y",
         "0.0815",
         "0.0127532467532467",
         "0.0135417409111111",
         "0.0165562406099816"
        ],
        [
         "2010-01-04",
         "5Y",
         "0.1365",
         "0.0454607967244628",
         "0.045298475",
         "0.0506201424166962"
        ],
        [
         "2010-01-04",
         "6M",
         "0.1164666666666666",
         "0.0114850881090932",
         "0.0094001848106666",
         "0.0106011111111111"
        ],
        [
         "2010-01-05",
         "10Y",
         "0.1479222222222222",
         "0.060946631438684",
         "0.0582911688888889",
         "0.0634842660464909"
        ]
       ],
       "shape": {
        "columns": 5,
        "rows": 5
       }
      },
      "text/html": [
       "<div>\n",
       "<style scoped>\n",
       "    .dataframe tbody tr th:only-of-type {\n",
       "        vertical-align: middle;\n",
       "    }\n",
       "\n",
       "    .dataframe tbody tr th {\n",
       "        vertical-align: top;\n",
       "    }\n",
       "\n",
       "    .dataframe thead th {\n",
       "        text-align: right;\n",
       "    }\n",
       "</style>\n",
       "<table border=\"1\" class=\"dataframe\">\n",
       "  <thead>\n",
       "    <tr style=\"text-align: right;\">\n",
       "      <th>shortname</th>\n",
       "      <th>tenor</th>\n",
       "      <th>PKR</th>\n",
       "      <th>CRC</th>\n",
       "      <th>ZAR</th>\n",
       "      <th>TRY</th>\n",
       "    </tr>\n",
       "    <tr>\n",
       "      <th>date</th>\n",
       "      <th></th>\n",
       "      <th></th>\n",
       "      <th></th>\n",
       "      <th></th>\n",
       "      <th></th>\n",
       "    </tr>\n",
       "  </thead>\n",
       "  <tbody>\n",
       "    <tr>\n",
       "      <th>2010-01-04</th>\n",
       "      <td>10Y</td>\n",
       "      <td>0.14872</td>\n",
       "      <td>0.06032</td>\n",
       "      <td>0.05996</td>\n",
       "      <td>0.06505</td>\n",
       "    </tr>\n",
       "    <tr>\n",
       "      <th>2010-01-04</th>\n",
       "      <td>1Y</td>\n",
       "      <td>0.08150</td>\n",
       "      <td>0.01275</td>\n",
       "      <td>0.01354</td>\n",
       "      <td>0.01656</td>\n",
       "    </tr>\n",
       "    <tr>\n",
       "      <th>2010-01-04</th>\n",
       "      <td>5Y</td>\n",
       "      <td>0.13650</td>\n",
       "      <td>0.04546</td>\n",
       "      <td>0.04530</td>\n",
       "      <td>0.05062</td>\n",
       "    </tr>\n",
       "    <tr>\n",
       "      <th>2010-01-04</th>\n",
       "      <td>6M</td>\n",
       "      <td>0.11647</td>\n",
       "      <td>0.01149</td>\n",
       "      <td>0.00940</td>\n",
       "      <td>0.01060</td>\n",
       "    </tr>\n",
       "    <tr>\n",
       "      <th>2010-01-05</th>\n",
       "      <td>10Y</td>\n",
       "      <td>0.14792</td>\n",
       "      <td>0.06095</td>\n",
       "      <td>0.05829</td>\n",
       "      <td>0.06348</td>\n",
       "    </tr>\n",
       "  </tbody>\n",
       "</table>\n",
       "</div>"
      ],
      "text/plain": [
       "shortname  tenor     PKR     CRC     ZAR     TRY\n",
       "date                                            \n",
       "2010-01-04   10Y 0.14872 0.06032 0.05996 0.06505\n",
       "2010-01-04    1Y 0.08150 0.01275 0.01354 0.01656\n",
       "2010-01-04    5Y 0.13650 0.04546 0.04530 0.05062\n",
       "2010-01-04    6M 0.11647 0.01149 0.00940 0.01060\n",
       "2010-01-05   10Y 0.14792 0.06095 0.05829 0.06348"
      ]
     },
     "execution_count": 5,
     "metadata": {},
     "output_type": "execute_result"
    }
   ],
   "source": [
    "yield_currencies = ['Rep South Africa', 'Rep Turkey', 'Rep Costa Rica', 'Islamic Rep Pakistan']\n",
    "yield_curves = pd.read_csv(here('./data/InferredYieldCurves_2025-02-04.tab'), sep='\\t')[['shortname', 'tenor', 'date', 'yield']]\n",
    "yield_curves.query('shortname in @yield_currencies', inplace=True)\n",
    "yield_curves.sort_values(by=['date', 'shortname', 'tenor'], inplace=True)\n",
    "yield_curves = yield_curves.pivot_table(index=['date', 'tenor'], columns='shortname', values='yield').reset_index()\n",
    "\n",
    "shortname_to_currency = {\n",
    "    'Rep South Africa': 'ZAR',\n",
    "    'Rep Turkey': 'TRY',\n",
    "    'Rep Costa Rica': 'CRC',\n",
    "    'Islamic Rep Pakistan': 'PKR'\n",
    "}\n",
    "\n",
    "\n",
    "# Rename the columns in yield_curves_wide\n",
    "yield_curves.rename(columns=shortname_to_currency, inplace=True)\n",
    "yield_curves.set_index('date', inplace=True)\n",
    "\n",
    "yield_curves.head(5)"
   ]
  }
 ],
 "metadata": {
  "kernelspec": {
   "display_name": "Python 3",
   "language": "python",
   "name": "python3"
  },
  "language_info": {
   "codemirror_mode": {
    "name": "ipython",
    "version": 3
   },
   "file_extension": ".py",
   "mimetype": "text/x-python",
   "name": "python",
   "nbconvert_exporter": "python",
   "pygments_lexer": "ipython3",
   "version": "3.11.0"
  }
 },
 "nbformat": 4,
 "nbformat_minor": 2
}
