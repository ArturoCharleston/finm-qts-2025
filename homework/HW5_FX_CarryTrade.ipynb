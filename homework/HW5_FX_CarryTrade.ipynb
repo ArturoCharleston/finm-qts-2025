{
 "cells": [
  {
   "cell_type": "markdown",
   "metadata": {},
   "source": [
    "## Homework 5: FX Carry Trade Strategy\n",
    "### FINM 33150 (Winter 2025) - Quantitative Trading Strategies\n",
    "#### NAME: Arturo Charleston\n",
    "#### Student ID: 12449584"
   ]
  },
  {
   "cell_type": "markdown",
   "metadata": {},
   "source": []
  }
 ],
 "metadata": {
  "language_info": {
   "name": "python"
  }
 },
 "nbformat": 4,
 "nbformat_minor": 2
}
